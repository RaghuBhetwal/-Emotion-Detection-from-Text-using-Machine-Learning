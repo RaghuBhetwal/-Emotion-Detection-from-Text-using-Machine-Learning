{
 "cells": [
  {
   "cell_type": "code",
   "execution_count": 1,
   "metadata": {
    "execution": {
     "iopub.execute_input": "2025-04-08T16:48:03.121411Z",
     "iopub.status.busy": "2025-04-08T16:48:03.120918Z",
     "iopub.status.idle": "2025-04-08T16:48:04.843021Z",
     "shell.execute_reply": "2025-04-08T16:48:04.841897Z",
     "shell.execute_reply.started": "2025-04-08T16:48:03.121381Z"
    }
   },
   "outputs": [],
   "source": [
    "import pandas as pd\n",
    "import numpy as np\n",
    "import seaborn as sns\n",
    "import matplotlib.pyplot as plt"
   ]
  },
  {
   "cell_type": "code",
   "execution_count": 2,
   "metadata": {
    "execution": {
     "iopub.execute_input": "2025-04-08T16:48:04.845145Z",
     "iopub.status.busy": "2025-04-08T16:48:04.844697Z",
     "iopub.status.idle": "2025-04-08T16:48:05.287508Z",
     "shell.execute_reply": "2025-04-08T16:48:05.286272Z",
     "shell.execute_reply.started": "2025-04-08T16:48:04.845119Z"
    }
   },
   "outputs": [],
   "source": [
    "from sklearn.model_selection import train_test_split\n",
    "from sklearn.feature_extraction.text import TfidfVectorizer\n",
    "from sklearn.linear_model import LogisticRegression\n",
    "from sklearn.metrics import classification_report, accuracy_score\n",
    "\n",
    "import warnings\n",
    "warnings.filterwarnings('ignore')"
   ]
  },
  {
   "cell_type": "code",
   "execution_count": 3,
   "metadata": {
    "execution": {
     "iopub.execute_input": "2025-04-08T16:48:05.289136Z",
     "iopub.status.busy": "2025-04-08T16:48:05.288709Z",
     "iopub.status.idle": "2025-04-08T16:48:05.294305Z",
     "shell.execute_reply": "2025-04-08T16:48:05.293256Z",
     "shell.execute_reply.started": "2025-04-08T16:48:05.289088Z"
    }
   },
   "outputs": [],
   "source": [
    "#Loading dataset\n",
    "train_path = \"C:/Users/raghu/Desktop/practice/data/train.txt\"\n",
    "test_path = \"C:/Users/raghu/Desktop/practice/data/test.txt\"\n"
   ]
  },
  {
   "cell_type": "code",
   "execution_count": 4,
   "metadata": {
    "execution": {
     "iopub.execute_input": "2025-04-08T17:20:53.333617Z",
     "iopub.status.busy": "2025-04-08T17:20:53.333143Z",
     "iopub.status.idle": "2025-04-08T17:20:53.422617Z",
     "shell.execute_reply": "2025-04-08T17:20:53.421713Z",
     "shell.execute_reply.started": "2025-04-08T17:20:53.333583Z"
    }
   },
   "outputs": [
    {
     "data": {
      "text/html": [
       "<div>\n",
       "<style scoped>\n",
       "    .dataframe tbody tr th:only-of-type {\n",
       "        vertical-align: middle;\n",
       "    }\n",
       "\n",
       "    .dataframe tbody tr th {\n",
       "        vertical-align: top;\n",
       "    }\n",
       "\n",
       "    .dataframe thead th {\n",
       "        text-align: right;\n",
       "    }\n",
       "</style>\n",
       "<table border=\"1\" class=\"dataframe\">\n",
       "  <thead>\n",
       "    <tr style=\"text-align: right;\">\n",
       "      <th></th>\n",
       "      <th>text</th>\n",
       "      <th>emotion</th>\n",
       "    </tr>\n",
       "  </thead>\n",
       "  <tbody>\n",
       "    <tr>\n",
       "      <th>0</th>\n",
       "      <td>i didnt feel humiliated</td>\n",
       "      <td>sadness</td>\n",
       "    </tr>\n",
       "    <tr>\n",
       "      <th>1</th>\n",
       "      <td>i can go from feeling so hopeless to so damned...</td>\n",
       "      <td>sadness</td>\n",
       "    </tr>\n",
       "    <tr>\n",
       "      <th>2</th>\n",
       "      <td>im grabbing a minute to post i feel greedy wrong</td>\n",
       "      <td>anger</td>\n",
       "    </tr>\n",
       "    <tr>\n",
       "      <th>3</th>\n",
       "      <td>i am ever feeling nostalgic about the fireplac...</td>\n",
       "      <td>love</td>\n",
       "    </tr>\n",
       "    <tr>\n",
       "      <th>4</th>\n",
       "      <td>i am feeling grouchy</td>\n",
       "      <td>anger</td>\n",
       "    </tr>\n",
       "  </tbody>\n",
       "</table>\n",
       "</div>"
      ],
      "text/plain": [
       "                                                text  emotion\n",
       "0                            i didnt feel humiliated  sadness\n",
       "1  i can go from feeling so hopeless to so damned...  sadness\n",
       "2   im grabbing a minute to post i feel greedy wrong    anger\n",
       "3  i am ever feeling nostalgic about the fireplac...     love\n",
       "4                               i am feeling grouchy    anger"
      ]
     },
     "execution_count": 4,
     "metadata": {},
     "output_type": "execute_result"
    }
   ],
   "source": [
    "def load_data(path):\n",
    "    df = pd.read_csv(path, sep=';', header=None, names=[\"text\", \"emotion\"])\n",
    "    return df\n",
    "    \n",
    "train_df = load_data(train_path)\n",
    "test_df = load_data(test_path)\n",
    "\n",
    "\n",
    "train_df.head()"
   ]
  },
  {
   "cell_type": "code",
   "execution_count": 6,
   "metadata": {
    "execution": {
     "iopub.execute_input": "2025-04-08T17:20:55.280057Z",
     "iopub.status.busy": "2025-04-08T17:20:55.279713Z",
     "iopub.status.idle": "2025-04-08T17:20:55.289854Z",
     "shell.execute_reply": "2025-04-08T17:20:55.288779Z",
     "shell.execute_reply.started": "2025-04-08T17:20:55.280030Z"
    }
   },
   "outputs": [
    {
     "name": "stdout",
     "output_type": "stream",
     "text": [
      "['sadness' 'anger' 'love' 'surprise' 'fear' 'joy']\n"
     ]
    }
   ],
   "source": [
    "print(train_df['emotion'].unique())"
   ]
  },
  {
   "cell_type": "code",
   "execution_count": 7,
   "metadata": {
    "execution": {
     "iopub.execute_input": "2025-04-08T16:48:05.437624Z",
     "iopub.status.busy": "2025-04-08T16:48:05.437324Z",
     "iopub.status.idle": "2025-04-08T16:48:05.447239Z",
     "shell.execute_reply": "2025-04-08T16:48:05.446167Z",
     "shell.execute_reply.started": "2025-04-08T16:48:05.437599Z"
    }
   },
   "outputs": [
    {
     "name": "stdout",
     "output_type": "stream",
     "text": [
      "Missing values:\n",
      " text       0\n",
      "emotion    0\n",
      "dtype: int64\n"
     ]
    }
   ],
   "source": [
    "print(\"Missing values:\\n\", train_df.isnull().sum())\n"
   ]
  },
  {
   "cell_type": "code",
   "execution_count": 8,
   "metadata": {
    "execution": {
     "iopub.execute_input": "2025-04-08T17:22:14.572255Z",
     "iopub.status.busy": "2025-04-08T17:22:14.571827Z",
     "iopub.status.idle": "2025-04-08T17:22:14.578545Z",
     "shell.execute_reply": "2025-04-08T17:22:14.577059Z",
     "shell.execute_reply.started": "2025-04-08T17:22:14.572226Z"
    }
   },
   "outputs": [
    {
     "name": "stdout",
     "output_type": "stream",
     "text": [
      "Number of rows and columns in train data: (16000, 2)\n",
      "Number of rows and columns in train data: (2000, 2)\n"
     ]
    }
   ],
   "source": [
    "print(f\"Number of rows and columns in train data: {train_df.shape}\")\n",
    "print(f\"Number of rows and columns in train data: {test_df.shape}\")\n"
   ]
  },
  {
   "cell_type": "code",
   "execution_count": 9,
   "metadata": {
    "execution": {
     "iopub.execute_input": "2025-04-08T16:48:05.449160Z",
     "iopub.status.busy": "2025-04-08T16:48:05.448657Z",
     "iopub.status.idle": "2025-04-08T16:48:05.491061Z",
     "shell.execute_reply": "2025-04-08T16:48:05.489815Z",
     "shell.execute_reply.started": "2025-04-08T16:48:05.449119Z"
    }
   },
   "outputs": [
    {
     "data": {
      "text/html": [
       "<div>\n",
       "<style scoped>\n",
       "    .dataframe tbody tr th:only-of-type {\n",
       "        vertical-align: middle;\n",
       "    }\n",
       "\n",
       "    .dataframe tbody tr th {\n",
       "        vertical-align: top;\n",
       "    }\n",
       "\n",
       "    .dataframe thead th {\n",
       "        text-align: right;\n",
       "    }\n",
       "</style>\n",
       "<table border=\"1\" class=\"dataframe\">\n",
       "  <thead>\n",
       "    <tr style=\"text-align: right;\">\n",
       "      <th></th>\n",
       "      <th>text</th>\n",
       "      <th>emotion</th>\n",
       "    </tr>\n",
       "  </thead>\n",
       "  <tbody>\n",
       "    <tr>\n",
       "      <th>count</th>\n",
       "      <td>16000</td>\n",
       "      <td>16000</td>\n",
       "    </tr>\n",
       "    <tr>\n",
       "      <th>unique</th>\n",
       "      <td>15969</td>\n",
       "      <td>6</td>\n",
       "    </tr>\n",
       "    <tr>\n",
       "      <th>top</th>\n",
       "      <td>i feel on the verge of tears from weariness i ...</td>\n",
       "      <td>joy</td>\n",
       "    </tr>\n",
       "    <tr>\n",
       "      <th>freq</th>\n",
       "      <td>2</td>\n",
       "      <td>5362</td>\n",
       "    </tr>\n",
       "  </tbody>\n",
       "</table>\n",
       "</div>"
      ],
      "text/plain": [
       "                                                     text emotion\n",
       "count                                               16000   16000\n",
       "unique                                              15969       6\n",
       "top     i feel on the verge of tears from weariness i ...     joy\n",
       "freq                                                    2    5362"
      ]
     },
     "execution_count": 9,
     "metadata": {},
     "output_type": "execute_result"
    }
   ],
   "source": [
    "train_df.describe()"
   ]
  },
  {
   "cell_type": "code",
   "execution_count": null,
   "metadata": {
    "execution": {
     "iopub.execute_input": "2025-04-08T16:48:05.494357Z",
     "iopub.status.busy": "2025-04-08T16:48:05.494023Z",
     "iopub.status.idle": "2025-04-08T16:48:11.083499Z",
     "shell.execute_reply": "2025-04-08T16:48:11.082016Z",
     "shell.execute_reply.started": "2025-04-08T16:48:05.494327Z"
    }
   },
   "outputs": [],
   "source": [
    "pip install spacy"
   ]
  },
  {
   "cell_type": "code",
   "execution_count": null,
   "metadata": {
    "execution": {
     "iopub.execute_input": "2025-04-08T16:50:56.949980Z",
     "iopub.status.busy": "2025-04-08T16:50:56.949413Z",
     "iopub.status.idle": "2025-04-08T16:50:57.725302Z",
     "shell.execute_reply": "2025-04-08T16:50:57.724099Z",
     "shell.execute_reply.started": "2025-04-08T16:50:56.949938Z"
    }
   },
   "outputs": [],
   "source": [
    "# Load spaCy model\n",
    "import re\n",
    "\n",
    "import spacy\n",
    "\n",
    "nlp = spacy.load(\"en_core_web_sm\")\n",
    "stop_words = nlp.Defaults.stop_words"
   ]
  },
  {
   "cell_type": "code",
   "execution_count": null,
   "metadata": {
    "execution": {
     "iopub.execute_input": "2025-04-08T16:50:59.176818Z",
     "iopub.status.busy": "2025-04-08T16:50:59.176391Z",
     "iopub.status.idle": "2025-04-08T16:53:45.428996Z",
     "shell.execute_reply": "2025-04-08T16:53:45.428043Z",
     "shell.execute_reply.started": "2025-04-08T16:50:59.176786Z"
    }
   },
   "outputs": [],
   "source": [
    "# Text cleaning function using spaCy\n",
    "def clean_text(text):\n",
    "\n",
    "    # Lowercasing text\n",
    "    text = text.lower()\n",
    "\n",
    "    # Removing special characters and numbers\n",
    "    text = re.sub(r'[^a-z\\s]', '', text)\n",
    "\n",
    "    # Processing text through spaCy\n",
    "    doc = nlp(text)\n",
    "\n",
    "    # Lemmatization and stopwords removeable\n",
    "    text = \" \".join([token.lemma_ for token in doc if token.text not in stop_words])\n",
    "\n",
    "    return text\n",
    "\n",
    "# Cleaning in train and test datasets\n",
    "train_df['text'] = train_df['text'].apply(clean_text)\n",
    "test_df['text'] = test_df['text'].apply(clean_text)\n",
    "\n",
    "# Verifying if the text has been cleaned\n",
    "print(train_df.head())\n",
    "print(test_df.head())"
   ]
  },
  {
   "cell_type": "code",
   "execution_count": null,
   "metadata": {
    "execution": {
     "iopub.execute_input": "2025-04-08T16:56:33.366197Z",
     "iopub.status.busy": "2025-04-08T16:56:33.365618Z",
     "iopub.status.idle": "2025-04-08T16:56:33.586455Z",
     "shell.execute_reply": "2025-04-08T16:56:33.585388Z",
     "shell.execute_reply.started": "2025-04-08T16:56:33.366145Z"
    }
   },
   "outputs": [],
   "source": [
    "from sklearn.feature_extraction.text import TfidfVectorizer\n",
    "\n",
    "X_train, y_train = train_df['text'], train_df['emotion']\n",
    "X_test, y_test = test_df['text'], test_df['emotion']\n",
    "\n",
    "vectorizer = TfidfVectorizer(max_features=5000)\n",
    "\n",
    "X_train_vec = vectorizer.fit_transform(X_train)\n",
    "\n",
    "X_test_vec = vectorizer.transform(X_test)\n"
   ]
  },
  {
   "cell_type": "code",
   "execution_count": null,
   "metadata": {
    "execution": {
     "iopub.execute_input": "2025-04-08T17:27:15.119835Z",
     "iopub.status.busy": "2025-04-08T17:27:15.119366Z",
     "iopub.status.idle": "2025-04-08T17:27:16.094655Z",
     "shell.execute_reply": "2025-04-08T17:27:16.093476Z",
     "shell.execute_reply.started": "2025-04-08T17:27:15.119803Z"
    }
   },
   "outputs": [],
   "source": [
    "# Train the Classifier\n",
    "model = LogisticRegression()\n",
    "model.fit(X_train_vec, y_train)\n",
    "\n",
    "# Predict\n",
    "y_pred = model.predict(X_test_vec)\n",
    "\n",
    "# Evaluate\n",
    "print(\"Accuracy:\", accuracy_score(y_test, y_pred))\n",
    "print(\"\\nClassification Report:\\n\", classification_report(y_test, y_pred))\n"
   ]
  },
  {
   "cell_type": "code",
   "execution_count": null,
   "metadata": {
    "execution": {
     "iopub.execute_input": "2025-04-08T16:57:42.211481Z",
     "iopub.status.busy": "2025-04-08T16:57:42.211054Z",
     "iopub.status.idle": "2025-04-08T16:57:42.649627Z",
     "shell.execute_reply": "2025-04-08T16:57:42.648515Z",
     "shell.execute_reply.started": "2025-04-08T16:57:42.211442Z"
    }
   },
   "outputs": [],
   "source": [
    "#Evaluation of the model\n",
    "from sklearn.metrics import accuracy_score, precision_recall_fscore_support, confusion_matrix\n",
    "\n",
    "import seaborn as sns\n",
    "import matplotlib.pyplot as plt\n",
    "\n",
    "# Accuracy\n",
    "accuracy = accuracy_score(y_test, y_pred)\n",
    "print(f\"Accuracy: {accuracy:.2f}\")\n",
    "\n",
    "# Other metrics\n",
    "precision, recall, f1, _ = precision_recall_fscore_support(y_test, y_pred, average='weighted')\n",
    "print(f\"Precision: {precision:.2f}, Recall: {recall:.2f}, F1: {f1:.2f}\")\n",
    "\n",
    "# Confusion Matrix\n",
    "cm = confusion_matrix(y_test, y_pred)\n",
    "plt.figure(figsize=(8, 6))\n",
    "sns.heatmap(cm, annot=True, fmt='d', cmap='Blues', xticklabels=model.classes_, yticklabels=model.classes_)\n",
    "plt.xlabel('Predicted')\n",
    "plt.ylabel('True')\n",
    "plt.title('Confusion Matrix')\n",
    "plt.show()\n"
   ]
  },
  {
   "cell_type": "code",
   "execution_count": null,
   "metadata": {
    "execution": {
     "iopub.execute_input": "2025-04-08T16:57:56.803775Z",
     "iopub.status.busy": "2025-04-08T16:57:56.803333Z",
     "iopub.status.idle": "2025-04-08T16:57:56.812751Z",
     "shell.execute_reply": "2025-04-08T16:57:56.811527Z",
     "shell.execute_reply.started": "2025-04-08T16:57:56.803742Z"
    }
   },
   "outputs": [],
   "source": [
    "#Test with our input\n",
    "def predict_emotion(text):\n",
    "    vec = vectorizer.transform([text])\n",
    "    prediction = model.predict(vec)\n",
    "    return prediction[0]\n",
    "\n",
    "predict_emotion(\"I feel so happy and happy today\")\n"
   ]
  },
  {
   "cell_type": "code",
   "execution_count": null,
   "metadata": {
    "execution": {
     "iopub.execute_input": "2025-04-08T16:58:02.868909Z",
     "iopub.status.busy": "2025-04-08T16:58:02.868497Z",
     "iopub.status.idle": "2025-04-08T16:58:03.014794Z",
     "shell.execute_reply": "2025-04-08T16:58:03.013732Z",
     "shell.execute_reply.started": "2025-04-08T16:58:02.868876Z"
    }
   },
   "outputs": [],
   "source": [
    "import joblib\n",
    "\n",
    "# Save the model\n",
    "joblib.dump(model, 'emotion_model.pkl')\n",
    "\n",
    "# Save the vectorizer\n",
    "joblib.dump(vectorizer, 'vectorizer.pkl')\n"
   ]
  },
  {
   "cell_type": "code",
   "execution_count": null,
   "metadata": {},
   "outputs": [],
   "source": []
  }
 ],
 "metadata": {
  "kaggle": {
   "accelerator": "none",
   "dataSources": [
    {
     "datasetId": 605165,
     "sourceId": 1085454,
     "sourceType": "datasetVersion"
    }
   ],
   "dockerImageVersionId": 30918,
   "isGpuEnabled": false,
   "isInternetEnabled": true,
   "language": "python",
   "sourceType": "notebook"
  },
  "kernelspec": {
   "display_name": "Python 3 (ipykernel)",
   "language": "python",
   "name": "python3"
  },
  "language_info": {
   "codemirror_mode": {
    "name": "ipython",
    "version": 3
   },
   "file_extension": ".py",
   "mimetype": "text/x-python",
   "name": "python",
   "nbconvert_exporter": "python",
   "pygments_lexer": "ipython3",
   "version": "3.9.13"
  }
 },
 "nbformat": 4,
 "nbformat_minor": 4
}
